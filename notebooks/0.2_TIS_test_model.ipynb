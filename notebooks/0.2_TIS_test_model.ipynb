{
 "cells": [
  {
   "cell_type": "code",
   "execution_count": null,
   "metadata": {},
   "outputs": [],
   "source": [
    "# Test finetuned model but in python\n",
    "!openai api completions.create -m davinci:ft-personal-2023-04-01-14-55-16 -p \"Где можно купить лучшие пышки?\"\n"
   ]
  },
  {
   "cell_type": "code",
   "execution_count": 5,
   "metadata": {},
   "outputs": [],
   "source": [
    "# Check for token in environment\n",
    "import os\n",
    "from dotenv import load_dotenv\n",
    "load_dotenv()\n",
    "OPENAI_API_KEY = os.getenv(\"OPENAI_API_KEY\")\n"
   ]
  },
  {
   "cell_type": "code",
   "execution_count": 22,
   "metadata": {},
   "outputs": [
    {
     "name": "stdout",
     "output_type": "stream",
     "text": [
      "{\n",
      "  \"choices\": [\n",
      "    {\n",
      "      \"finish_reason\": \"stop\",\n",
      "      \"index\": 0,\n",
      "      \"logprobs\": null,\n",
      "      \"text\": \" \\u041b\\u0443\\u0447\\u0448\\u0438\\u0435 \\u043f\\u044b\\u0448\\u043a\\u0438 \\u043d\\u0430\\u0445\\u043e\\u0434\\u044f\\u0442\\u0441\\u044f \\u0432 \\u043a\\u043b\\u0443\\u0431\\u0430\\u0445 \\u0438 \\u0441\\u0430\\u0443\\u043d\\u0430\\u0445. \\u041e\\u043d\\u0438 \\u043c\\u043e\\u0433\\u0443\\u0442 \\u0442\\u0430\\u043a\\u0436\\u0435 \\u0431\\u044b\\u0442\\u044c \\u043d\\u0430\\u043d\\u044f\\u0442\\u044b \\u0434\\u043b\\u044f \\u0443\\u0441\\u043b\\u0443\\u0433 \\u0432 \\u0434\\u043e\\u043c\\u0430\\u0448\\u043d\\u0438\\u0445 \\u0443\\u0441\\u043b\\u043e\\u0432\\u0438\\u044f\\u0479.\"\n",
      "    }\n",
      "  ],\n",
      "  \"created\": 1680366246,\n",
      "  \"id\": \"cmpl-70YJK057sNQC5rejHCP0eveeQNubW\",\n",
      "  \"model\": \"davinci:ft-personal-2023-04-01-14-55-16\",\n",
      "  \"object\": \"text_completion\",\n",
      "  \"usage\": {\n",
      "    \"completion_tokens\": 113,\n",
      "    \"prompt_tokens\": 21,\n",
      "    \"total_tokens\": 134\n",
      "  }\n",
      "}\n"
     ]
    }
   ],
   "source": [
    "import openai\n",
    "openai.api_key = OPENAI_API_KEY\n",
    "\n",
    "# Test finetuned model but in python\n",
    "response = openai.Completion.create(\n",
    "    engine=\"davinci:ft-personal-2023-04-01-14-55-16\",\n",
    "    prompt=\"Где лучшие пышки?\",\n",
    "    temperature=0.0,\n",
    "    max_tokens=1000,\n",
    "    top_p=1,\n",
    "    frequency_penalty=0.2,\n",
    "    presence_penalty=0,\n",
    "    stop=[\"\\n\", \" User:\", \" AI:\", \" END\"]\n",
    ")\n",
    "print(response)"
   ]
  },
  {
   "cell_type": "code",
   "execution_count": 21,
   "metadata": {},
   "outputs": [
    {
     "name": "stdout",
     "output_type": "stream",
     "text": [
      " Лучшие пышки находятся в клубах и саунах. Они могут также быть наняты для услуг в домашних условияѹ.\n"
     ]
    }
   ],
   "source": [
    "print(response['choices'][0]['text'])\n"
   ]
  },
  {
   "cell_type": "markdown",
   "metadata": {},
   "source": []
  },
  {
   "attachments": {},
   "cell_type": "markdown",
   "metadata": {},
   "source": [
    "# https://community.openai.com/t/finetuning-for-domain-knowledge-and-questions/24817"
   ]
  },
  {
   "cell_type": "code",
   "execution_count": null,
   "metadata": {},
   "outputs": [],
   "source": []
  }
 ],
 "metadata": {
  "kernelspec": {
   "display_name": "base",
   "language": "python",
   "name": "python3"
  },
  "language_info": {
   "codemirror_mode": {
    "name": "ipython",
    "version": 3
   },
   "file_extension": ".py",
   "mimetype": "text/x-python",
   "name": "python",
   "nbconvert_exporter": "python",
   "pygments_lexer": "ipython3",
   "version": "3.9.13"
  },
  "orig_nbformat": 4
 },
 "nbformat": 4,
 "nbformat_minor": 2
}
