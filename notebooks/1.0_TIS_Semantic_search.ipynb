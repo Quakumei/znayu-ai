{
 "cells": [
  {
   "cell_type": "code",
   "execution_count": null,
   "metadata": {},
   "outputs": [],
   "source": [
    "# Idea: semantic search relevant FAQ and with that information use ChatGPT to generate a response\n",
    "\n"
   ]
  },
  {
   "cell_type": "code",
   "execution_count": null,
   "metadata": {},
   "outputs": [],
   "source": []
  },
  {
   "cell_type": "code",
   "execution_count": 10,
   "metadata": {},
   "outputs": [
    {
     "data": {
      "text/html": [
       "<div>\n",
       "<style scoped>\n",
       "    .dataframe tbody tr th:only-of-type {\n",
       "        vertical-align: middle;\n",
       "    }\n",
       "\n",
       "    .dataframe tbody tr th {\n",
       "        vertical-align: top;\n",
       "    }\n",
       "\n",
       "    .dataframe thead th {\n",
       "        text-align: right;\n",
       "    }\n",
       "</style>\n",
       "<table border=\"1\" class=\"dataframe\">\n",
       "  <thead>\n",
       "    <tr style=\"text-align: right;\">\n",
       "      <th></th>\n",
       "      <th>prompt</th>\n",
       "      <th>completion</th>\n",
       "    </tr>\n",
       "  </thead>\n",
       "  <tbody>\n",
       "    <tr>\n",
       "      <th>0</th>\n",
       "      <td>Что такое Техника Безопасности в нашей компании?</td>\n",
       "      <td>Техника безопасности - это набор правил и мер...</td>\n",
       "    </tr>\n",
       "    <tr>\n",
       "      <th>1</th>\n",
       "      <td>Какие основные риски и опасности на рабочем ме...</td>\n",
       "      <td>Основными рисками и опасностями на рабочем ме...</td>\n",
       "    </tr>\n",
       "    <tr>\n",
       "      <th>2</th>\n",
       "      <td>Какие виды личной защитной экипировки использу...</td>\n",
       "      <td>В нашей компании используется широкий спектр ...</td>\n",
       "    </tr>\n",
       "    <tr>\n",
       "      <th>3</th>\n",
       "      <td>Какие правила обращения с техническим оборудов...</td>\n",
       "      <td>Сотрудники должны следовать инструкциям по эк...</td>\n",
       "    </tr>\n",
       "    <tr>\n",
       "      <th>4</th>\n",
       "      <td>Как происходит оценка рисков на рабочем месте?</td>\n",
       "      <td>Оценка рисков на рабочем месте проводится спе...</td>\n",
       "    </tr>\n",
       "  </tbody>\n",
       "</table>\n",
       "</div>"
      ],
      "text/plain": [
       "                                              prompt  \\\n",
       "0   Что такое Техника Безопасности в нашей компании?   \n",
       "1  Какие основные риски и опасности на рабочем ме...   \n",
       "2  Какие виды личной защитной экипировки использу...   \n",
       "3  Какие правила обращения с техническим оборудов...   \n",
       "4     Как происходит оценка рисков на рабочем месте?   \n",
       "\n",
       "                                          completion  \n",
       "0   Техника безопасности - это набор правил и мер...  \n",
       "1   Основными рисками и опасностями на рабочем ме...  \n",
       "2   В нашей компании используется широкий спектр ...  \n",
       "3   Сотрудники должны следовать инструкциям по эк...  \n",
       "4   Оценка рисков на рабочем месте проводится спе...  "
      ]
     },
     "execution_count": 10,
     "metadata": {},
     "output_type": "execute_result"
    }
   ],
   "source": [
    "# Load jsonl\n",
    "import json\n",
    "import pandas as pd\n",
    "\n",
    "def load_faq(faq_path:str = '../src/data/final/data_prepared_prepared.jsonl') -> list[dict]:\n",
    "    with open(faq_path) as f:\n",
    "        faq = [json.loads(line) for line in f]\n",
    "    return faq\n",
    "\n",
    "faq = load_faq()\n",
    "pd.DataFrame(faq).head()"
   ]
  },
  {
   "cell_type": "code",
   "execution_count": 11,
   "metadata": {},
   "outputs": [],
   "source": [
    "# Get OPENAI_API_KEY from dotenv\n",
    "from dotenv import load_dotenv\n",
    "load_dotenv()\n",
    "import os\n",
    "OPENAI_API_KEY = os.getenv(\"OPENAI_API_KEY\")\n",
    "\n",
    "# stopwords https://github.com/stopwords-iso/stopwords-ru/blob/master/stopwords-ru.txt\n"
   ]
  },
  {
   "cell_type": "code",
   "execution_count": 45,
   "metadata": {},
   "outputs": [],
   "source": [
    "def load_stopwords(path:str='../src/data/final/tfidf_stopwords.txt') -> list[str]:\n",
    "    res = []\n",
    "    for l in open(path):\n",
    "        res.append(l.strip())\n",
    "    return res\n",
    "\n",
    "\n",
    "\n",
    "def baseline_get_relevant_faq(query:str, faq_strings:list[str], top_n: int = 5) -> list:\n",
    "    \"\"\"Calculate cosine similarity between query and faq and return most relevant faq\"\"\"\n",
    "    # Step 1: Extract keywords from query\n",
    "    from sklearn.feature_extraction.text import TfidfVectorizer\n",
    "    # https://www.machinelearningplus.com/nlp/cosine-similarity/\n",
    "    # Create the Document Term Matrix\n",
    "    stopwords_ru = load_stopwords()\n",
    "    count_vectorizer = TfidfVectorizer(stop_words=stopwords_ru)\n",
    "\n",
    "    # print(pd.DataFrame(faq_strings).head(10))\n",
    "    # print(type(faq_strings))\n",
    "    # print(type(faq_strings[0]))\n",
    "\n",
    "    sparse_matrix = count_vectorizer.fit_transform(faq_strings)\n",
    "\n",
    "    df = pd.DataFrame(sparse_matrix.toarray(), columns=count_vectorizer.get_feature_names_out())\n",
    "\n",
    "    # Step 2: Calculate cosine similarity between query and faq\n",
    "    from sklearn.metrics.pairwise import cosine_similarity\n",
    "    query_vector = count_vectorizer.transform([query])\n",
    "    cosine_similarities = cosine_similarity(query_vector, sparse_matrix).flatten()\n",
    "\n",
    "    # Step 3: Return top_n most relevant faq\n",
    "    related_docs_indices = cosine_similarities.argsort()[:-top_n - 1:-1]\n",
    "    return [faq_strings[i] for i in related_docs_indices]"
   ]
  },
  {
   "cell_type": "code",
   "execution_count": 65,
   "metadata": {},
   "outputs": [
    {
     "name": "stderr",
     "output_type": "stream",
     "text": [
      "c:\\ProgramData\\Anaconda3\\lib\\site-packages\\sklearn\\feature_extraction\\text.py:396: UserWarning: Your stop_words may be inconsistent with your preprocessing. Tokenizing the stop words generated tokens ['хотел'] not in stop_words.\n",
      "  warnings.warn(\n",
      "c:\\ProgramData\\Anaconda3\\lib\\site-packages\\sklearn\\feature_extraction\\text.py:396: UserWarning: Your stop_words may be inconsistent with your preprocessing. Tokenizing the stop words generated tokens ['хотел'] not in stop_words.\n",
      "  warnings.warn(\n"
     ]
    },
    {
     "data": {
      "text/plain": [
       "['Где лучшие пышки? В Политехе END',\n",
       " 'Где лучшие пышки? СПбПУ им. Петра Великого. END',\n",
       " \"Где лучшие пышки? СПбПУ им. Петра Великого. Кафе называется 'Пышки', по адресу: \\u200bПолитехническая, 29лит 1 этаж Академическое, Калининский район, Санкт-Петербург, 194064 END\",\n",
       " 'Почему нашу компанию называют техногазелью? RuNetSoft называют техногазелью, потому что она является быстрорастущей инновационной, высокотехнологичной компанией, принадлежащей к сегменту малого и среднего бизнеса, и получила статус «газели» в рамках программы поддержки от АО «Корпорация «МСП».',\n",
       " 'Какие меры следует принять для обеспечения безопасности в здании при возможности ЧС? Установите и поддерживайте систему пожарной безопасности, проверьте работоспособность и наличие необходимого оборудования, такого как огнетушители и дымовые извещатели. Проводите тренировочные учения по эвакуации сотрудников и знакомьте их с местом нахождения аварийных выходов. END']"
      ]
     },
     "execution_count": 65,
     "metadata": {},
     "output_type": "execute_result"
    }
   ],
   "source": [
    "faq = load_faq()\n",
    "faq_strings = [faq['prompt']+faq['completion'] for faq in faq]\n",
    "relevant_faq = baseline_get_relevant_faq('Какие документы нужны для получения кредита?', faq_strings)\n",
    "\n",
    "baseline_get_relevant_faq('Где лучшие пышки?', faq_strings)"
   ]
  },
  {
   "cell_type": "code",
   "execution_count": 63,
   "metadata": {},
   "outputs": [],
   "source": [
    "# History is a list of dictionaries with keys 'role' and 'content'\n",
    "\n",
    "def generate_answer(query: str, faq_strings: list[str], top_n: int = 5, history: list[dict] = None):\n",
    "    # Step 1 get relevant FAQ if first\n",
    "    related_faqs = baseline_get_relevant_faq(query, faq_strings, top_n=top_n)\n",
    "\n",
    "    # Step 2 use ChatGPT to generate answer based on query and faq answer\n",
    "    import openai\n",
    "    openai.api_key = OPENAI_API_KEY\n",
    "\n",
    "    response = openai.ChatCompletion.create(\n",
    "        model=\"gpt-3.5-turbo\",\n",
    "        messages=[\n",
    "            {\n",
    "                \"role\": \"user\",\n",
    "                \"content\":\n",
    "                f\"\"\"Привет, вот база данных faq: {related_faqs}\\n\"\"\"\n",
    "                f\"\"\"На их основе, ответь на следующий вопрос: {query}\\n\"\"\"\n",
    "                f\"\"\"Если имея эти факты нельзя ответить вопрос, попроси меня\n",
    "                сформулировать вопрос иначе. \\n\"\"\",\n",
    "            },\n",
    "        ],\n",
    "        max_tokens=1000,\n",
    "        stop=[\" END\"],\n",
    "        temperature=0.69,\n",
    "    )\n",
    "    # Find the first response from the chatbot\n",
    "    # that has text in it (some responses may not have text)\n",
    "    for choice in response.choices:\n",
    "        if \"text\" in choice:\n",
    "            return choice.text\n",
    "\n",
    "    answer = response.choices[0].message.content\n",
    "    # If no response with text is found, return\n",
    "    # the first response's content (which may be empty)\n",
    "    # Step 3 return answer\n",
    "    return answer"
   ]
  },
  {
   "cell_type": "code",
   "execution_count": 66,
   "metadata": {},
   "outputs": [
    {
     "name": "stderr",
     "output_type": "stream",
     "text": [
      "c:\\ProgramData\\Anaconda3\\lib\\site-packages\\sklearn\\feature_extraction\\text.py:396: UserWarning: Your stop_words may be inconsistent with your preprocessing. Tokenizing the stop words generated tokens ['хотел'] not in stop_words.\n",
      "  warnings.warn(\n"
     ]
    },
    {
     "data": {
      "text/plain": [
       "'Попроси меня сформулировать вопрос иначе, так как данная база данных не содержит информации, относящейся к данному запросу.'"
      ]
     },
     "execution_count": 66,
     "metadata": {},
     "output_type": "execute_result"
    }
   ],
   "source": [
    "faq = load_faq()\n",
    "faq_strings = [faq['prompt'] + faq['completion'] for faq in faq]\n",
    "generate_answer('А как летать?', faq_strings, history=None)"
   ]
  },
  {
   "cell_type": "code",
   "execution_count": null,
   "metadata": {},
   "outputs": [],
   "source": []
  }
 ],
 "metadata": {
  "kernelspec": {
   "display_name": "base",
   "language": "python",
   "name": "python3"
  },
  "language_info": {
   "codemirror_mode": {
    "name": "ipython",
    "version": 3
   },
   "file_extension": ".py",
   "mimetype": "text/x-python",
   "name": "python",
   "nbconvert_exporter": "python",
   "pygments_lexer": "ipython3",
   "version": "3.9.13"
  },
  "orig_nbformat": 4
 },
 "nbformat": 4,
 "nbformat_minor": 2
}
