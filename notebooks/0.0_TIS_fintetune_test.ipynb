{
 "cells": [
  {
   "attachments": {},
   "cell_type": "markdown",
   "metadata": {},
   "source": [
    " Данные для онбординга компании сгенерированы с помощью ChatGPT 3:09PM 04/01/2023"
   ]
  },
  {
   "cell_type": "code",
   "execution_count": null,
   "metadata": {},
   "outputs": [],
   "source": [
    "!openai tools fine_tunes.prepare_data -t \".\\src\\data\\raw\\data copy_prepared.jsonl\"\n"
   ]
  },
  {
   "cell_type": "code",
   "execution_count": null,
   "metadata": {},
   "outputs": [],
   "source": [
    "! openai api fine_tunes.create -t \".\\src\\data\\raw\\data copy_prepared.jsonl\""
   ]
  },
  {
   "attachments": {},
   "cell_type": "markdown",
   "metadata": {},
   "source": [
    "```bash\n",
    "(base) PS C:\\Users\\quakumei\\Desktop\\projects\\eestech\\znayu-ai> openai api fine_tunes.create -t .\\src\\data\\final\\data_prepared.jsonl -m davinci\n",
    "Upload progress: 100%|██████████████████████████████████████████████████████████████████████████████████████████████████████████████████████████████████| 31.1k/31.1k [00:00<00:00, 10.3Mit/s]\n",
    "Uploaded file from .\\src\\data\\final\\data_prepared.jsonl: file-USEMZroV2vedHOJ0SYiPciWy\n",
    "Created fine-tune: ft-Gb3DNrmYYN8UIGszRBjCazg0\n",
    "Streaming events until fine-tuning is complete...\n",
    "\n",
    "(Ctrl-C will interrupt the stream, but not cancel the fine-tune)\n",
    "[2023-04-01 17:33:11] Created fine-tune: ft-Gb3DNrmYYN8UIGszRBjCazg0\n",
    "\n",
    "```"
   ]
  },
  {
   "attachments": {},
   "cell_type": "markdown",
   "metadata": {},
   "source": [
    " openai api completions.create -m davinci:ft-personal-2023-04-01-14-55-16 -p"
   ]
  },
  {
   "cell_type": "code",
   "execution_count": null,
   "metadata": {},
   "outputs": [],
   "source": [
    "print(\"hello\")"
   ]
  },
  {
   "cell_type": "code",
   "execution_count": null,
   "metadata": {},
   "outputs": [],
   "source": [
    "!openai api completions.create -m davinci:ft-personal-2023-04-01-14-55-16 -p \"Где можно купить лучшие пышки?\""
   ]
  },
  {
   "cell_type": "code",
   "execution_count": null,
   "metadata": {},
   "outputs": [],
   "source": []
  },
  {
   "cell_type": "code",
   "execution_count": null,
   "metadata": {},
   "outputs": [],
   "source": []
  }
 ],
 "metadata": {
  "language_info": {
   "name": "python"
  },
  "orig_nbformat": 4
 },
 "nbformat": 4,
 "nbformat_minor": 2
}
